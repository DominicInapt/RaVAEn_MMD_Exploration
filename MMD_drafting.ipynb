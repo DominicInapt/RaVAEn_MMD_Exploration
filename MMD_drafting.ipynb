{
 "cells": [
  {
   "cell_type": "code",
   "execution_count": 1,
   "id": "6ffbcb91",
   "metadata": {},
   "outputs": [],
   "source": [
    "import torch\n",
    "import mmd\n",
    "import numpy as np\n",
    "from mmd import *\n",
    "#This notebook is meant to be run at the same level as the scripts folder."
   ]
  },
  {
   "cell_type": "code",
   "execution_count": 2,
   "id": "35d6af73",
   "metadata": {},
   "outputs": [],
   "source": [
    "#Load some data from storage.\n",
    "data_all=torch.load(\"data_all0.pt\")\n",
    "embs_all=torch.load(\"embs_all0.pt\")"
   ]
  },
  {
   "cell_type": "code",
   "execution_count": 3,
   "id": "8d3571b2",
   "metadata": {},
   "outputs": [],
   "source": [
    "#Bandwidth equation copied from:\n",
    "# https://github.com/GreatA1exander/pt-mmd-demo/blob/master/common/PT-MMD%20Driver%20Demo.ipynb\n",
    "def determine_bandwidth(data1,data2,metric):\n",
    "    distances = np.zeros((len(data1),len(data2)))\n",
    "    for x,point1 in enumerate(data1):\n",
    "        for y,point2 in enumerate(data2):\n",
    "            distances[x,y] = metric(point1,point2)\n",
    "            \n",
    "    print(\"Best single KERNEL has bandwidth %.5f\" % np.median(distances))\n",
    "    return np.median(distances)\n",
    "\n",
    "#If norm fails on execution, it is likely because your x and y are not both 2D.\n",
    "distance_metric = lambda x,y: np.linalg.norm(x-y,2)\n"
   ]
  },
  {
   "cell_type": "code",
   "execution_count": 4,
   "id": "e67c9016",
   "metadata": {},
   "outputs": [
    {
     "name": "stdout",
     "output_type": "stream",
     "text": [
      "torch.Size([5, 10, 1984, 2016])\n",
      "torch.Size([4, 256, 26, 32])\n"
     ]
    }
   ],
   "source": [
    "#I have been unable to decipher the meaning of embs, dimensions.\n",
    "# For data it means there are 5 images, with 10 layers, that are 1984 by 2016 pixels.\n",
    "#I am not sure where the ten comes from, but the evaluation methods frequently only use the first layer.\n",
    "print(data_all.shape)\n",
    "print(embs_all.shape)"
   ]
  },
  {
   "cell_type": "code",
   "execution_count": 6,
   "id": "7570aca2",
   "metadata": {},
   "outputs": [
    {
     "name": "stdout",
     "output_type": "stream",
     "text": [
      "Best single KERNEL has bandwidth 31.35715\n",
      "Best single KERNEL has bandwidth 31.67813\n",
      "Best single KERNEL has bandwidth 32.62355\n",
      "Best single KERNEL has bandwidth 34.13388\n",
      "Best single KERNEL has bandwidth 36.13698\n"
     ]
    }
   ],
   "source": [
    "results = np.zeros(5)\n",
    "for i in range(5):\n",
    "    x=data_all[0][0]\n",
    "    y=x + np.random.normal(0,i/10, x.shape)\n",
    "    bandwidth = determine_bandwidth(x,y,distance_metric)\n",
    "    results[i] =mix_rbf_mmd2(x,y, [bandwidth])\n",
    "results\n",
    "#Checks that the algorithm is working."
   ]
  },
  {
   "cell_type": "code",
   "execution_count": 8,
   "id": "73947837",
   "metadata": {},
   "outputs": [
    {
     "name": "stdout",
     "output_type": "stream",
     "text": [
      "Best single KERNEL has bandwidth 20.67920\n",
      "Best single KERNEL has bandwidth 22.62339\n",
      "Best single KERNEL has bandwidth 21.88240\n"
     ]
    }
   ],
   "source": [
    "results = np.zeros(5)\n",
    "#Experimenting with the embedded image (latent space) using code from\n",
    "#src.evaluation.methods.cosEmbeddingImage()\n",
    "for i in range(3):\n",
    "    embs_now=embs_all[i+1]\n",
    "    embs_win=embs_all[i]\n",
    "    embs_now = embs_now[:, :embs_now.shape[1]//2]\n",
    "    embs_win = embs_win[:, :embs_win.shape[1]//2]\n",
    "    embs_now = embs_now[0]\n",
    "    embs_win = embs_win[-1]\n",
    "    bandwidth = determine_bandwidth(embs_now,embs_win,distance_metric)\n",
    "    results[i] =mix_rbf_mmd2(embs_now,embs_win, [bandwidth])"
   ]
  },
  {
   "cell_type": "code",
   "execution_count": 7,
   "id": "187f0f77",
   "metadata": {},
   "outputs": [
    {
     "data": {
      "text/plain": [
       "array([0.00000000e+00, 7.09299153e-05, 9.09960370e-04, 3.73209772e-03,\n",
       "       9.30610790e-03])"
      ]
     },
     "execution_count": 7,
     "metadata": {},
     "output_type": "execute_result"
    }
   ],
   "source": [
    "results"
   ]
  }
 ],
 "metadata": {
  "kernelspec": {
   "display_name": "Python [conda env:ravaen_env] *",
   "language": "python",
   "name": "conda-env-ravaen_env-py"
  },
  "language_info": {
   "codemirror_mode": {
    "name": "ipython",
    "version": 3
   },
   "file_extension": ".py",
   "mimetype": "text/x-python",
   "name": "python",
   "nbconvert_exporter": "python",
   "pygments_lexer": "ipython3",
   "version": "3.9.6"
  }
 },
 "nbformat": 4,
 "nbformat_minor": 5
}
